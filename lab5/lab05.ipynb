{
 "cells": [
  {
   "cell_type": "markdown",
   "id": "a40541d5",
   "metadata": {},
   "source": [
    "AUTHOR: Mykola Ryzun, PUBLISHED: November 05, 2023, Lab:№5"
   ]
  },
  {
   "cell_type": "markdown",
   "id": "e1e079d3",
   "metadata": {},
   "source": [
    "# Лабораторна робота №5. Списки"
   ]
  },
  {
   "cell_type": "markdown",
   "id": "588eb082",
   "metadata": {},
   "source": [
    "__Мета:__ освоїти роботу зі списками"
   ]
  },
  {
   "cell_type": "markdown",
   "id": "8a6fb710",
   "metadata": {},
   "source": [
    "# Хід роботи"
   ]
  },
  {
   "cell_type": "markdown",
   "id": "f483f400",
   "metadata": {},
   "source": [
    "1.Напишіть рядок коду, що пропонує користувачеві замінити число всередині списку цілим числом, введеним користувачем.Напишіть рядок коду, який видаляє останній елемент зі списку.Напишіть рядок коду, який друкує довжину існуючого списку."
   ]
  },
  {
   "cell_type": "code",
   "execution_count": 2,
   "id": "108c3152",
   "metadata": {},
   "outputs": [
    {
     "name": "stdout",
     "output_type": "stream",
     "text": [
      "Введіть індекс для заміни: 0\n",
      "Введіть нове число: 5\n",
      "Довжина списку: 4\n",
      "Оновлений список: [5, 2, 3, 4]\n"
     ]
    }
   ],
   "source": [
    "\n",
    "my_list = [1, 2, 3, 4, 5]\n",
    "index_to_replace = int(input(\"Введіть індекс для заміни: \"))\n",
    "new_value = int(input(\"Введіть нове число: \"))\n",
    "my_list[index_to_replace] = new_value\n",
    "my_list.pop()\n",
    "print(\"Довжина списку:\", len(my_list))\n",
    "print(\"Оновлений список:\", my_list)\n",
    "\n"
   ]
  },
  {
   "cell_type": "markdown",
   "id": "3467ab2e",
   "metadata": {},
   "source": [
    "2.Написати програму сортування списку у порядку зростання методом бульбашки."
   ]
  },
  {
   "cell_type": "code",
   "execution_count": 3,
   "id": "3a1cc132",
   "metadata": {},
   "outputs": [
    {
     "name": "stdout",
     "output_type": "stream",
     "text": [
      "Не відсортований список: [64, 34, 25, 12, 22, 11, 90]\n",
      "Відсортований список: [11, 12, 22, 25, 34, 64, 90]\n"
     ]
    }
   ],
   "source": [
    "def bubble_sort(arr):\n",
    "    n = len(arr)\n",
    "\n",
    "    for i in range(n - 1):\n",
    "        for j in range(0, n - i - 1):\n",
    "            if arr[j] > arr[j + 1]:\n",
    "                arr[j], arr[j + 1] = arr[j + 1], arr[j]\n",
    "my_list = [64, 34, 25, 12, 22, 11, 90]\n",
    "print(\"Не відсортований список:\", my_list)\n",
    "bubble_sort(my_list)\n",
    "print(\"Відсортований список:\", my_list)\n",
    "\n",
    "\n"
   ]
  },
  {
   "cell_type": "markdown",
   "id": "57c62482",
   "metadata": {},
   "source": [
    "3.Написати програму, яка видаляє всі дублікати чисел зі списку."
   ]
  },
  {
   "cell_type": "code",
   "execution_count": 4,
   "id": "26f06715",
   "metadata": {},
   "outputs": [
    {
     "name": "stdout",
     "output_type": "stream",
     "text": [
      "Список з дублікатами: [1, 2, 2, 3, 4, 4, 5]\n",
      "Список без дублікатів: [1, 2, 3, 4, 5]\n"
     ]
    }
   ],
   "source": [
    "def remove_duplicates(arr):\n",
    "    unique_list = []\n",
    "    for num in arr:\n",
    "        if num not in unique_list:\n",
    "            unique_list.append(num)\n",
    "    return unique_list\n",
    "my_list = [1, 2, 2, 3, 4, 4, 5]\n",
    "print(\"Список з дублікатами:\", my_list)\n",
    "unique_list = remove_duplicates(my_list)\n",
    "print(\"Список без дублікатів:\", unique_list)\n"
   ]
  },
  {
   "cell_type": "markdown",
   "id": "8f0ddb1a",
   "metadata": {},
   "source": [
    "4.Напишіть код, використоувуючи генератори списків, який створює матрицю 8х8 з пустими клітинками (пуста клітинка задається як “_“) для задання шахівниці і розставте чотири тури по кутках шахівниці."
   ]
  },
  {
   "cell_type": "code",
   "execution_count": 16,
   "id": "e9df797c",
   "metadata": {},
   "outputs": [
    {
     "name": "stdout",
     "output_type": "stream",
     "text": [
      "T _ _ _ _ _ _ T\n",
      "_ _ _ _ _ _ _ _\n",
      "_ _ _ _ _ _ _ _\n",
      "_ _ _ _ _ _ _ _\n",
      "_ _ _ _ _ _ _ _\n",
      "_ _ _ _ _ _ _ _\n",
      "_ _ _ _ _ _ _ _\n",
      "T _ _ _ _ _ _ T\n"
     ]
    }
   ],
   "source": [
    "chess_board = [[\"_\" for _ in range(8)] for _ in range(8)]\n",
    "\n",
    "chess_board[0][0] = \"T\"  \n",
    "chess_board[0][7] = \"T\" \n",
    "chess_board[7][0] = \"T\"  \n",
    "chess_board[7][7] = \"T\"  \n",
    "for row in chess_board:\n",
    "    print(\" \".join(row))\n"
   ]
  },
  {
   "cell_type": "markdown",
   "id": "b6381e0b",
   "metadata": {},
   "source": [
    "## Контрольні запитання"
   ]
  },
  {
   "cell_type": "markdown",
   "id": "c3829fe9",
   "metadata": {},
   "source": [
    "1.Який вивод наступного фрагмента?"
   ]
  },
  {
   "cell_type": "code",
   "execution_count": 20,
   "id": "0bb0a526",
   "metadata": {},
   "outputs": [
    {
     "name": "stdout",
     "output_type": "stream",
     "text": [
      "['C']\n"
     ]
    }
   ],
   "source": [
    "list_1 = [\"A\",\"B\",\"C\"]\n",
    "list_2 = list_1\n",
    "list_3 = list_2\n",
    "del list_1[0]\n",
    "del list_2[0]\n",
    "print(list_3)"
   ]
  },
  {
   "cell_type": "markdown",
   "id": "21c11315",
   "metadata": {},
   "source": [
    "2.Який вивод наступного фрагмента?"
   ]
  },
  {
   "cell_type": "code",
   "execution_count": 21,
   "id": "e7ed0456",
   "metadata": {},
   "outputs": [
    {
     "name": "stdout",
     "output_type": "stream",
     "text": [
      "['B', 'C']\n"
     ]
    }
   ],
   "source": [
    "list_1 = [\"A\",\"B\",\"C\"]\n",
    "list_2 = list_1\n",
    "list_3 = list_2\n",
    "del list_1[0]\n",
    "del list_2\n",
    "print(list_3)"
   ]
  },
  {
   "cell_type": "markdown",
   "id": "1ec657b8",
   "metadata": {},
   "source": [
    "3.Який вивод наступного фрагмента?"
   ]
  },
  {
   "cell_type": "code",
   "execution_count": 24,
   "id": "471dfded",
   "metadata": {},
   "outputs": [
    {
     "name": "stdout",
     "output_type": "stream",
     "text": [
      "['A', 'B', 'C']\n"
     ]
    }
   ],
   "source": [
    "list_1 = [\"A\",\"B\",\"C\"]\n",
    "list_2 = list_1[:]\n",
    "list_3 = list_2[:]\n",
    "del list_1[0]\n",
    "del list_2[:]\n",
    "print(list_3)"
   ]
  },
  {
   "cell_type": "markdown",
   "id": "74930dc9",
   "metadata": {},
   "source": [
    "4.Який вивод наступного фрагмента?"
   ]
  },
  {
   "cell_type": "code",
   "execution_count": 25,
   "id": "8ade78ef",
   "metadata": {},
   "outputs": [
    {
     "name": "stdout",
     "output_type": "stream",
     "text": [
      "['A', 'B', 'C']\n"
     ]
    }
   ],
   "source": [
    "list_1 = [\"A\",\"B\",\"C\"]\n",
    "list_2 = list_1[:]\n",
    "list_3 = list_2[:]\n",
    "del list_1[0]\n",
    "del list_2[0]\n",
    "print(list_3)"
   ]
  },
  {
   "cell_type": "markdown",
   "id": "dc93289a",
   "metadata": {},
   "source": [
    "## References"
   ]
  },
  {
   "cell_type": "markdown",
   "id": "146ee926",
   "metadata": {},
   "source": [
    "1.https://github.com/MykolaLucky/Mykola - посилання на GitHub-репозиторій"
   ]
  }
 ],
 "metadata": {
  "kernelspec": {
   "display_name": "Python 3 (ipykernel)",
   "language": "python",
   "name": "python3"
  },
  "language_info": {
   "codemirror_mode": {
    "name": "ipython",
    "version": 3
   },
   "file_extension": ".py",
   "mimetype": "text/x-python",
   "name": "python",
   "nbconvert_exporter": "python",
   "pygments_lexer": "ipython3",
   "version": "3.11.4"
  }
 },
 "nbformat": 4,
 "nbformat_minor": 5
}
