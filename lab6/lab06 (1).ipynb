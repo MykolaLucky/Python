{
 "cells": [
  {
   "cell_type": "markdown",
   "id": "3b501333",
   "metadata": {},
   "source": [
    "AUTHOR: Mykola Ryzun, PUBLISHED: November 12, 2023, Lab:№6"
   ]
  },
  {
   "cell_type": "markdown",
   "id": "f58e10af",
   "metadata": {},
   "source": [
    "# Лабораторна робота №6. Функції\n"
   ]
  },
  {
   "cell_type": "markdown",
   "id": "ffa3f57d",
   "metadata": {},
   "source": [
    "__Мета:__  навчитися писати функції та користуватися ними"
   ]
  },
  {
   "cell_type": "markdown",
   "id": "ee4780b5",
   "metadata": {},
   "source": [
    "# Хід роботи"
   ]
  },
  {
   "cell_type": "markdown",
   "id": "7e78608c",
   "metadata": {},
   "source": [
    "1.Написати і протестувати функцію, яка приймає один аргумент (рік) і повертає True, якщо рік є високосним, або False інакше."
   ]
  },
  {
   "cell_type": "code",
   "execution_count": 4,
   "id": "41521482",
   "metadata": {},
   "outputs": [
    {
     "name": "stdout",
     "output_type": "stream",
     "text": [
      "2020 є високосним роком.\n"
     ]
    }
   ],
   "source": [
    "def is_leap_year(year):\n",
    "    if (year % 4 == 0 and year % 100 != 0) or (year % 400 == 0):\n",
    "        return True\n",
    "    else:\n",
    "        return False\n",
    "year_to_check = 2020\n",
    "if is_leap_year(year_to_check):\n",
    "    print(f\"{year_to_check} є високосним роком.\")\n",
    "else:\n",
    "    print(f\"{year_to_check} не є високосним роком.\")\n"
   ]
  },
  {
   "cell_type": "markdown",
   "id": "6d0c6a01",
   "metadata": {},
   "source": [
    "2.Написати та протестувати функцію, яка приймає два аргументи (рік і місяць) і повертає кількість днів для даної пари рік-місяць (у той час, як тільки лютий чутливий до значення year, Ваша функція має бути універсальною)."
   ]
  },
  {
   "cell_type": "code",
   "execution_count": 5,
   "id": "b9ee3ab1",
   "metadata": {},
   "outputs": [
    {
     "name": "stdout",
     "output_type": "stream",
     "text": [
      "У 2020 році, у місяці 2 - 29 днів.\n"
     ]
    }
   ],
   "source": [
    "def days_in_month(year, month):\n",
    "    days_per_month = {\n",
    "        1: 31,  # січень\n",
    "        2: 29 if ((year % 4 == 0 and year % 100 != 0) or (year % 400 == 0)) else 28,  # лютий\n",
    "        3: 31,  # березень\n",
    "        4: 30,  # квітень\n",
    "        5: 31,  # травень\n",
    "        6: 30,  # червень\n",
    "        7: 31,  # липень\n",
    "        8: 31,  # серпень\n",
    "        9: 30,  # вересень\n",
    "        10: 31,  # жовтень\n",
    "        11: 30,  # листопад\n",
    "        12: 31   # грудень\n",
    "    }\n",
    "    if month < 1 or month > 12:\n",
    "        return \"Некоректний місяць\"\n",
    "    return days_per_month[month]\n",
    "year_to_check = 2020\n",
    "month_to_check = 2\n",
    "result = days_in_month(year_to_check, month_to_check)\n",
    "if isinstance(result, int):\n",
    "    print(f\"У {year_to_check} році, у місяці {month_to_check} - {result} днів.\")\n",
    "else:\n",
    "    print(result)\n",
    "\n"
   ]
  },
  {
   "cell_type": "markdown",
   "id": "0b58dfed",
   "metadata": {},
   "source": [
    "3.Написати та протестувати функцію, яка приймає три аргументи (рік, місяць та день місяця) та повертає відповідний день року або None, якщо якийсь із аргументів невірний."
   ]
  },
  {
   "cell_type": "code",
   "execution_count": 8,
   "id": "c303b3ec",
   "metadata": {},
   "outputs": [
    {
     "name": "stdout",
     "output_type": "stream",
     "text": [
      "У 2021 році, 4 місяці, 12 числа - це 102-й день року.\n"
     ]
    }
   ],
   "source": [
    "def day_of_year(year, month, day):\n",
    "    days_per_month = {\n",
    "        1: 31,  # січень\n",
    "        2: 29 if ((year % 4 == 0 and year % 100 != 0) or (year % 400 == 0)) else 28,  # лютий\n",
    "        3: 31,  # березень\n",
    "        4: 30,  # квітень\n",
    "        5: 31,  # травень\n",
    "        6: 30,  # червень\n",
    "        7: 31,  # липень\n",
    "        8: 31,  # серпень\n",
    "        9: 30,  # вересень\n",
    "        10: 31,  # жовтень\n",
    "        11: 30,  # листопад\n",
    "        12: 31   # грудень\n",
    "    }\n",
    "    if month < 1 or month > 12 or day < 1 or day > days_per_month[month]:\n",
    "        return None\n",
    "    day_count = sum(days_per_month[i] for i in range(1, month)) + day\n",
    "\n",
    "    return day_count\n",
    "year_to_check = 2021\n",
    "month_to_check = 4\n",
    "day_to_check = 12\n",
    "\n",
    "result = day_of_year(year_to_check, month_to_check, day_to_check)\n",
    "\n",
    "if result is not None:\n",
    "    print(f\"У {year_to_check} році, {month_to_check} місяці, {day_to_check} числа - це {result}-й день року.\")\n",
    "else:\n",
    "    print(\"Введені дані некоректні.\")\n",
    "\n"
   ]
  },
  {
   "cell_type": "markdown",
   "id": "b065d286",
   "metadata": {},
   "source": [
    "4.Написати функцію, що перевіряє, чи є число простим чи ні."
   ]
  },
  {
   "cell_type": "code",
   "execution_count": 10,
   "id": "de607a53",
   "metadata": {},
   "outputs": [
    {
     "name": "stdout",
     "output_type": "stream",
     "text": [
      "13 є простим числом.\n"
     ]
    }
   ],
   "source": [
    "def is_prime(number):\n",
    "    if number < 2:\n",
    "        return False\n",
    "    for i in range(2, int(number**0.5) + 1):\n",
    "        if number % i == 0:\n",
    "            return False\n",
    "    \n",
    "    return True\n",
    "num_to_check = 13\n",
    "\n",
    "if is_prime(num_to_check):\n",
    "    print(f\"{num_to_check} є простим числом.\")\n",
    "else:\n",
    "    print(f\"{num_to_check} не є простим числом.\")\n",
    "\n",
    "\n"
   ]
  },
  {
   "cell_type": "markdown",
   "id": "19915fea",
   "metadata": {},
   "source": [
    "5.Написати дві функції, що конвертують л/100км в миль на галон, і навпаки."
   ]
  },
  {
   "cell_type": "code",
   "execution_count": 77,
   "id": "38c163f8",
   "metadata": {},
   "outputs": [
    {
     "name": "stdout",
     "output_type": "stream",
     "text": [
      "60.31776386033689\n",
      "31.365237207375184\n",
      "23.523927905531387\n",
      "3.901148906389948\n",
      "7.4916967852010785\n",
      "10.010182087460164\n"
     ]
    }
   ],
   "source": [
    "def liters_100km_to_miles_gallon(liters):\n",
    "    miles_per_gallon = (100 * 3.785) / (liters * 1.609)\n",
    "    return miles_per_gallon\n",
    "def miles_gallon_to_liters_100km(miles):\n",
    "    liters_per_100km = (100* 3.785) / (miles * 1.609)\n",
    "    return liters_per_100km\n",
    "print(liters_100km_to_miles_gallon(3.9))\n",
    "print(liters_100km_to_miles_gallon(7.5))\n",
    "print(liters_100km_to_miles_gallon(10.))\n",
    "print(miles_gallon_to_liters_100km(60.3))\n",
    "print(miles_gallon_to_liters_100km(31.4))\n",
    "print(miles_gallon_to_liters_100km(23.5))"
   ]
  },
  {
   "cell_type": "markdown",
   "id": "c3b19426",
   "metadata": {},
   "source": [
    "6.Написати функцію, яка перевіряє, чи три сторони заданої довжини побудувати трикутник. Вона має повернути `True`, якщо сторони можуть утворити трикутник, і `False` в іншому випадку. У цьому випадку `is_a_triangle(a, b, c)` – гарна назва для такої функції.\n",
    "\n"
   ]
  },
  {
   "cell_type": "code",
   "execution_count": 11,
   "id": "25bfd032",
   "metadata": {},
   "outputs": [
    {
     "name": "stdout",
     "output_type": "stream",
     "text": [
      "Можна побудувати трикутник.\n"
     ]
    }
   ],
   "source": [
    "def is_a_triangle(a, b, c):\n",
    "    if a + b > c and a + c > b and b + c > a:\n",
    "        return True\n",
    "    else:\n",
    "        return False\n",
    "side1 = 3\n",
    "side2 = 4\n",
    "side3 = 5\n",
    "\n",
    "if is_a_triangle(side1, side2, side3):\n",
    "    print(\"Можна побудувати трикутник.\")\n",
    "else:\n",
    "    print(\"Не можна побудувати трикутник.\")\n",
    "\n"
   ]
  },
  {
   "cell_type": "markdown",
   "id": "1e5d0de1",
   "metadata": {},
   "source": [
    "7.Написати функцію is_a_right_triangle(a, b, c), яка перевіряє, чи є трикутник зі сторонами a, b, c прямокутним. При цьому потрібно використати функцію is_a_triangle(a, b, c) з завдання 6."
   ]
  },
  {
   "cell_type": "code",
   "execution_count": 13,
   "id": "cb166ae0",
   "metadata": {},
   "outputs": [
    {
     "name": "stdout",
     "output_type": "stream",
     "text": [
      "Трикутник зі сторонами 3 4 5 є прямокутним.\n"
     ]
    }
   ],
   "source": [
    "def is_a_triangle(a, b, c):\n",
    "    if a + b > c and a + c > b and b + c > a:\n",
    "        return True\n",
    "    else:\n",
    "        return False\n",
    "def is_a_right_triangle(a, b, c):\n",
    "    if is_a_triangle(a, b, c):\n",
    "        if a**2 + b**2 == c**2 or a**2 + c**2 == b**2 or b**2 + c**2 == a**2:\n",
    "            return True\n",
    "        else:\n",
    "            return False\n",
    "    else:\n",
    "        return False\n",
    "side1 = 3\n",
    "side2 = 4\n",
    "side3 = 5\n",
    "\n",
    "if is_a_right_triangle(side1, side2, side3):\n",
    "    print(\"Трикутник зі сторонами\", side1, side2, side3, \"є прямокутним.\")\n",
    "else:\n",
    "    print(\"Трикутник зі сторонами\", side1, side2, side3, \"не є прямокутним або не існує.\")\n",
    "\n"
   ]
  },
  {
   "cell_type": "markdown",
   "id": "341eb1cd",
   "metadata": {},
   "source": [
    "## Контрольні запитання"
   ]
  },
  {
   "cell_type": "markdown",
   "id": "6ca76c12",
   "metadata": {},
   "source": [
    "1.Який вивод наступного фрагмента?"
   ]
  },
  {
   "cell_type": "markdown",
   "id": "93915d22",
   "metadata": {},
   "source": [
    "У  коді виводиться значення змінної alt поза областю видимості цієї змінної. Змінна alt визначена в межах функції message, і вона не є глобальною змінною, доступною поза цією функцією. Виведеться помилка."
   ]
  },
  {
   "cell_type": "markdown",
   "id": "ce682e21",
   "metadata": {},
   "source": [
    "2.Який вивод наступного фрагмента?"
   ]
  },
  {
   "cell_type": "code",
   "execution_count": 84,
   "id": "2a85666b",
   "metadata": {},
   "outputs": [
    {
     "name": "stdout",
     "output_type": "stream",
     "text": [
      "2\n",
      "1\n"
     ]
    }
   ],
   "source": [
    "a=1\n",
    "def fun():\n",
    "    a=2\n",
    "    print(a)  \n",
    "fun()\n",
    "print(a)"
   ]
  },
  {
   "cell_type": "markdown",
   "id": "9819f88e",
   "metadata": {},
   "source": [
    "3.Який вивод наступного фрагмента?"
   ]
  },
  {
   "cell_type": "code",
   "execution_count": 85,
   "id": "cc93b5d3",
   "metadata": {},
   "outputs": [
    {
     "name": "stdout",
     "output_type": "stream",
     "text": [
      "2\n",
      "3\n"
     ]
    }
   ],
   "source": [
    "a=1\n",
    "def fun():\n",
    "    global a\n",
    "    a=2\n",
    "    print(a) \n",
    "fun()\n",
    "a=3\n",
    "print(a)\n"
   ]
  },
  {
   "cell_type": "markdown",
   "id": "b1a3301e",
   "metadata": {},
   "source": [
    "4.Який вивод наступного фрагмента?"
   ]
  },
  {
   "cell_type": "code",
   "execution_count": 86,
   "id": "716172f2",
   "metadata": {},
   "outputs": [
    {
     "name": "stdout",
     "output_type": "stream",
     "text": [
      "2\n",
      "2\n"
     ]
    }
   ],
   "source": [
    "a=1\n",
    "def fun():\n",
    "    global a\n",
    "    a=2\n",
    "    print(a) \n",
    "a=3\n",
    "fun()\n",
    "print(a)"
   ]
  },
  {
   "cell_type": "markdown",
   "id": "21373091",
   "metadata": {},
   "source": [
    "## References"
   ]
  },
  {
   "cell_type": "markdown",
   "id": "8b375cf6",
   "metadata": {},
   "source": [
    "1.https://github.com/MykolaLucky/Mykola - посилання на GitHub-репозиторій"
   ]
  }
 ],
 "metadata": {
  "kernelspec": {
   "display_name": "Python 3 (ipykernel)",
   "language": "python",
   "name": "python3"
  },
  "language_info": {
   "codemirror_mode": {
    "name": "ipython",
    "version": 3
   },
   "file_extension": ".py",
   "mimetype": "text/x-python",
   "name": "python",
   "nbconvert_exporter": "python",
   "pygments_lexer": "ipython3",
   "version": "3.11.4"
  }
 },
 "nbformat": 4,
 "nbformat_minor": 5
}
